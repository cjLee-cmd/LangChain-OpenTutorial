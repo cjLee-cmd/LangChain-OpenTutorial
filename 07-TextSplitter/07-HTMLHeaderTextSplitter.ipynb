{
 "cells": [
  {
   "cell_type": "markdown",
   "id": "f7562937",
   "metadata": {},
   "source": [
    "# HTMLHeaderTextSplitter  \n",
    "\n",
    "- Author: [ChangJun Lee](https://www.linkedin.com/in/cjleeno1/)\n",
    "- Design: []() \n",
    "- Peer Review: [YooKyung Jeon](https://github.com/sirena1), [Wooseok Jeong](https://github.com/jeong-wooseok)\n",
    "- This is a part of [LangChain Open Tutorial](https://github.com/LangChain-OpenTutorial/LangChain-OpenTutorial)\n",
    "\n",
    "[![Open in Colab] [![Open in GitHub]\n",
    "\n",
    "## Overview\n",
    "\n",
    "This is a \"structure-aware\" chunk generator that splits text at the element level and adds metadata for each header, conceptually similar to the <a href=\"https://python.langchain.com/docs/modules/data_connection/document_transformers/text_splitters/markdown_header_metadata\">`MarkdownHeaderTextSplitter`</a>.\n",
    "\n",
    "It adds metadata \"related\" to each chunk.\n",
    "\n",
    "`HTMLHeaderTextSplitter` can return chunks by element or combine elements with the same metadata,\n",
    "\n",
    "- (a) semantically (approximately) group related text and\n",
    "- (b) preserve context-rich information encoded in the document structure.\n",
    "\n",
    "### Table of Contents\n",
    "\n",
    "- [Overview](#overview)\n",
    "- [Environment Setup](#environment-setup)\n",
    "- [Using HTML Strings](#using-html-strings)\n",
    "- [Connecting with Other Splitters and Loading HTML from a Web URL](#connecting-with-other-splitters-and-loading-html-from-a-web-url)\n",
    "- [Limitations](#limitations)\n",
    "\n",
    "### References \n",
    "\n",
    "- [HTML Header Text Splitter](https://python.langchain.com/api_reference/text_splitters/html/langchain_text_splitters.html.HTMLHeaderTextSplitter.html#)\n",
    "---"
   ]
  },
  {
   "cell_type": "markdown",
   "id": "2029d53c",
   "metadata": {},
   "source": [
    "## Environment Setup\n",
    "\n",
    "Setting up your environment is the first step. See the [Environment Setup](https://wikidocs.net/257836) guide for more details.\n",
    "\n",
    "**[Note]**\n",
    "- The `langchain-opentutorial` is a package of easy-to-use environment setup guidance, useful functions and utilities for tutorials.\n",
    "- Check out the [`langchain-opentutorial`](https://github.com/LangChain-OpenTutorial/langchain-opentutorial-pypi) for more details."
   ]
  },
  {
   "cell_type": "markdown",
   "id": "079cc73e",
   "metadata": {},
   "source": [
    "## Using HTML Strings\n"
   ]
  },
  {
   "cell_type": "markdown",
   "id": "8d6331f3",
   "metadata": {},
   "source": [
    "- Specify the header tags and their names to split on in the `headers_to_split_on` list as tuples.\n",
    "- Create an `HTMLHeaderTextSplitter` object and pass the list of headers to split on to the `headers_to_split_on` parameter."
   ]
  },
  {
   "cell_type": "code",
   "execution_count": 19,
   "id": "27b4943f",
   "metadata": {},
   "outputs": [],
   "source": [
    "%%capture --no-stderr\n",
    "%pip install langchain langchain-opentutorial"
   ]
  },
  {
   "cell_type": "code",
   "execution_count": null,
   "id": "fb85c7c2",
   "metadata": {},
   "outputs": [],
   "source": [
    "# Install required packages\n",
    "from langchain_opentutorial import package\n",
    "\n",
    "package.install(\n",
    "    [\n",
    "        \"langsmith\",\n",
    "        \"langchain\",\n",
    "        \"langchain_core\",\n",
    "        \"langchain_community\",\n",
    "        \"langchain_text_splitters\",\n",
    "        \"langchain_openai\",\n",
    "    ]\n",
    ")"
   ]
  },
  {
   "cell_type": "code",
   "execution_count": 21,
   "id": "0831a0fb",
   "metadata": {},
   "outputs": [
    {
     "name": "stdout",
     "output_type": "stream",
     "text": [
      "Environment variables have been set successfully.\n"
     ]
    }
   ],
   "source": [
    "# Set environment variables\n",
    "from langchain_opentutorial import set_env\n",
    "\n",
    "set_env(\n",
    "    {\n",
    "        \"OPENAI_API_KEY\": \"\",\n",
    "        \"LANGCHAIN_API_KEY\": \"\",\n",
    "        \"LANGCHAIN_TRACING_V2\": \"true\",\n",
    "        \"LANGCHAIN_ENDPOINT\": \"https://api.smith.langchain.com\",\n",
    "        \"LANGCHAIN_PROJECT\": \"RecursiveJsonSplitter\",\n",
    "    }\n",
    ")"
   ]
  },
  {
   "cell_type": "code",
   "execution_count": 22,
   "id": "d71c85ac",
   "metadata": {},
   "outputs": [
    {
     "name": "stdout",
     "output_type": "stream",
     "text": [
      "Header 1\n",
      "{}\n",
      "=====================\n",
      "Text included in Header 1  \n",
      "Header 2-1 Title Header 3-1 Title Header 3-2 Title\n",
      "{'Header 1': 'Header 1'}\n",
      "=====================\n",
      "Text included in Header 2-1\n",
      "{'Header 1': 'Header 1', 'Header 2': 'Header 2-1 Title'}\n",
      "=====================\n",
      "Text included in Header 3-1\n",
      "{'Header 1': 'Header 1', 'Header 2': 'Header 2-1 Title', 'Header 3': 'Header 3-1 Title'}\n",
      "=====================\n",
      "Text included in Header 3-2\n",
      "{'Header 1': 'Header 1', 'Header 2': 'Header 2-1 Title', 'Header 3': 'Header 3-2 Title'}\n",
      "=====================\n",
      "Header 2-2 Title\n",
      "{'Header 1': 'Header 1'}\n",
      "=====================\n",
      "Text included in Header 2-2\n",
      "{'Header 1': 'Header 1', 'Header 2': 'Header 2-2 Title'}\n",
      "=====================\n",
      "Last content\n",
      "{'Header 1': 'Header 1'}\n",
      "=====================\n"
     ]
    }
   ],
   "source": [
    "from langchain_text_splitters import HTMLHeaderTextSplitter\n",
    "\n",
    "html_string = \"\"\"\n",
    "<!DOCTYPE html>\n",
    "<html>\n",
    "<body>\n",
    "    <div>\n",
    "        <h1>Header 1</h1>\n",
    "        <p>Text included in Header 1</p>\n",
    "        <div>\n",
    "            <h2>Header 2-1 Title</h2>\n",
    "            <p>Text included in Header 2-1</p>\n",
    "            <h3>Header 3-1 Title</h3>\n",
    "            <p>Text included in Header 3-1</p>\n",
    "            <h3>Header 3-2 Title</h3>\n",
    "            <p>Text included in Header 3-2</p>\n",
    "        </div>\n",
    "        <div>\n",
    "            <h2>Header 2-2 Title</h2>\n",
    "            <p>Text included in Header 2-2</p>\n",
    "        </div>\n",
    "        <br>\n",
    "        <p>Last content</p>\n",
    "    </div>\n",
    "</body>\n",
    "</html>\n",
    "\"\"\"\n",
    "\n",
    "headers_to_split_on = [\n",
    "    (\"h1\", \"Header 1\"),  # Specify the header tags and their names to split on.\n",
    "    (\"h2\", \"Header 2\"),\n",
    "    (\"h3\", \"Header 3\"),\n",
    "]\n",
    "\n",
    "# Create an HTMLHeaderTextSplitter object to split the HTML text based on the specified headers.\n",
    "html_splitter = HTMLHeaderTextSplitter(headers_to_split_on=headers_to_split_on)\n",
    "# Split the HTML string and store the result in the html_header_splits variable.\n",
    "html_header_splits = html_splitter.split_text(html_string)\n",
    "# Print the split results.\n",
    "for header in html_header_splits:\n",
    "    print(f\"{header.page_content}\")\n",
    "    print(f\"{header.metadata}\", end=\"\\n=====================\\n\")"
   ]
  },
  {
   "cell_type": "markdown",
   "id": "b6d970ec",
   "metadata": {},
   "source": [
    "## Connecting with Other Splitters and Loading HTML from a Web URL\n",
    "\n",
    "In this example, we load HTML content from a web URL and then process it by connecting it with other splitters in a pipeline.\n"
   ]
  },
  {
   "cell_type": "code",
   "execution_count": 23,
   "id": "9c51d85c",
   "metadata": {},
   "outputs": [
    {
     "name": "stdout",
     "output_type": "stream",
     "text": [
      "We see that Gödel first tried to reduce the consistency problem for analysis to that of arithmetic. This seemed to require a truth definition for arithmetic, which in turn led to paradoxes, such as the Liar paradox (“This sentence is false”) and Berry’s paradox (“The least number not defined by an expression consisting of just fourteen English words”). Gödel then noticed that such paradoxes would not necessarily arise if truth were replaced by provability. But this means that arithmetic truth\n",
      "{'Header 1': 'Kurt Gödel', 'Header 2': '2. Gödel’s Mathematical Work', 'Header 3': '2.2 The Incompleteness Theorems', 'Header 4': '2.2.1 The First Incompleteness Theorem'}\n",
      "=====================\n",
      "means that arithmetic truth and arithmetic provability are not co-extensive — whence the First Incompleteness Theorem.\n",
      "{'Header 1': 'Kurt Gödel', 'Header 2': '2. Gödel’s Mathematical Work', 'Header 3': '2.2 The Incompleteness Theorems', 'Header 4': '2.2.1 The First Incompleteness Theorem'}\n",
      "=====================\n",
      "This account of Gödel’s discovery was told to Hao Wang very much after the fact; but in Gödel’s contemporary correspondence with Bernays and Zermelo, essentially the same description of his path to the theorems is given. (See Gödel 2003a and Gödel 2003b respectively.) From those accounts we see that the undefinability of truth in arithmetic, a result credited to Tarski, was likely obtained in some form by Gödel by 1931. But he neither publicized nor published the result; the biases logicians\n",
      "{'Header 1': 'Kurt Gödel', 'Header 2': '2. Gödel’s Mathematical Work', 'Header 3': '2.2 The Incompleteness Theorems', 'Header 4': '2.2.1 The First Incompleteness Theorem'}\n",
      "=====================\n",
      "result; the biases logicians had expressed at the time concerning the notion of truth, biases which came vehemently to the fore when Tarski announced his results on the undefinability of truth in formal systems 1935, may have served as a deterrent to Gödel’s publication of that theorem.\n",
      "{'Header 1': 'Kurt Gödel', 'Header 2': '2. Gödel’s Mathematical Work', 'Header 3': '2.2 The Incompleteness Theorems', 'Header 4': '2.2.1 The First Incompleteness Theorem'}\n",
      "=====================\n",
      "We now describe the proof of the two theorems, formulating Gödel’s results in Peano arithmetic. Gödel himself used a system related to that defined in Principia Mathematica, but containing Peano arithmetic. In our presentation of the First and Second Incompleteness Theorems we refer to Peano arithmetic as P, following Gödel’s notation.\n",
      "{'Header 1': 'Kurt Gödel', 'Header 2': '2. Gödel’s Mathematical Work', 'Header 3': '2.2 The Incompleteness Theorems', 'Header 4': '2.2.2 The proof of the First Incompleteness Theorem'}\n",
      "=====================\n"
     ]
    }
   ],
   "source": [
    "from langchain_text_splitters import RecursiveCharacterTextSplitter\n",
    "\n",
    "url = \"https://plato.stanford.edu/entries/goedel/\"  # Specify the URL of the text to split.\n",
    "\n",
    "headers_to_split_on = [  # Specify the HTML header tags and their names to split on.\n",
    "    (\"h1\", \"Header 1\"),\n",
    "    (\"h2\", \"Header 2\"),\n",
    "    (\"h3\", \"Header 3\"),\n",
    "    (\"h4\", \"Header 4\"),\n",
    "]\n",
    "\n",
    "# Create an HTMLHeaderTextSplitter object to split the text based on the specified HTML headers.\n",
    "html_splitter = HTMLHeaderTextSplitter(headers_to_split_on=headers_to_split_on)\n",
    "\n",
    "# Fetch the text from the URL and split it based on the HTML headers.\n",
    "html_header_splits = html_splitter.split_text_from_url(url)\n",
    "\n",
    "chunk_size = 500  # Specify the size of the chunks to split the text into.\n",
    "chunk_overlap = 30  # Specify the number of overlapping characters between chunks.\n",
    "text_splitter = RecursiveCharacterTextSplitter(  # Create a RecursiveCharacterTextSplitter object to recursively split the text.\n",
    "    chunk_size=chunk_size, chunk_overlap=chunk_overlap\n",
    ")\n",
    "\n",
    "# Split the text that was split by HTML headers into chunks of the specified size.\n",
    "splits = text_splitter.split_documents(html_header_splits)\n",
    "\n",
    "# Print chunks 80 to 85 of the split text.\n",
    "for header in splits[80:85]:\n",
    "    print(f\"{header.page_content}\")\n",
    "    print(f\"{header.metadata}\", end=\"\\n=====================\\n\")"
   ]
  },
  {
   "cell_type": "markdown",
   "id": "4362cc91",
   "metadata": {},
   "source": [
    "## Limitations\n",
    "\n",
    "HTMLHeaderTextSplitter attempts to handle structural differences between HTML documents, but it may sometimes miss specific headers.\n",
    "\n",
    "For example, this algorithm assumes that headers are always nodes \"above\" the related text, i.e., in previous sibling nodes, ancestor nodes, and combinations thereof.\n",
    "\n",
    "In the following news article (as of the time of writing), the text of the top headline is tagged as \"h1\", but it is in a **separate subtree** from the text element we expect.\n",
    "\n",
    "Therefore, the text related to the \"h1\" element does not appear in the chunk metadata, but the text related to \"h2\" does, if applicable.\n"
   ]
  },
  {
   "cell_type": "code",
   "execution_count": 24,
   "id": "147313da",
   "metadata": {},
   "outputs": [
    {
     "name": "stdout",
     "output_type": "stream",
     "text": [
      "CNN values your feedback  \n",
      "1. How relevant is this ad to you?  \n",
      "2. Did you encounter any technical i\n",
      "{}\n",
      "=====================\n",
      "No two El Niño winters are the same, but many have temperature and precipitation trends in common.  \n",
      "{'Header 2': 'What could this winter look like?'}\n",
      "=====================\n",
      "Ad Feedback  \n",
      "Ad Feedback  \n",
      "Ad Feedback  \n",
      "Ad Feedback  \n",
      "Ad Feedback  \n",
      "Ad Feedback  \n",
      "Ad Feedback  \n",
      "Ad\n",
      "{}\n",
      "=====================\n"
     ]
    }
   ],
   "source": [
    "# Specify the URL of the HTML page to split.\n",
    "url = \"https://www.cnn.com/2023/09/25/weather/el-nino-winter-us-climate/index.html\"\n",
    "\n",
    "headers_to_split_on = [\n",
    "    (\"h1\", \"Header 1\"),  # Specify the header tags and their names to split on.\n",
    "    (\"h2\", \"Header 2\"),  # Specify the header tags and their names to split on.\n",
    "]\n",
    "\n",
    "# Create an HTMLHeaderTextSplitter object to split the HTML text based on the specified headers.\n",
    "html_splitter = HTMLHeaderTextSplitter(headers_to_split_on=headers_to_split_on)\n",
    "\n",
    "# Split the HTML page from the specified URL and store the result in the html_header_splits variable.\n",
    "html_header_splits = html_splitter.split_text_from_url(url)\n",
    "\n",
    "# Print the split results.\n",
    "for header in html_header_splits:\n",
    "    print(f\"{header.page_content[:100]}\")\n",
    "    print(f\"{header.metadata}\", end=\"\\n=====================\\n\")"
   ]
  }
 ],
 "metadata": {
  "kernelspec": {
   "display_name": "Python 3",
   "language": "python",
   "name": "python3"
  },
  "language_info": {
   "codemirror_mode": {
    "name": "ipython",
    "version": 3
   },
   "file_extension": ".py",
   "mimetype": "text/x-python",
   "name": "python",
   "nbconvert_exporter": "python",
   "pygments_lexer": "ipython3",
   "version": "3.11.10"
  }
 },
 "nbformat": 4,
 "nbformat_minor": 5
}
